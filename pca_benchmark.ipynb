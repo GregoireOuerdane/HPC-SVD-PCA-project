{
 "cells": [
  {
   "cell_type": "code",
   "execution_count": 1,
   "id": "a0ab16fd",
   "metadata": {},
   "outputs": [
    {
     "name": "stdout",
     "output_type": "stream",
     "text": [
      "\n",
      "Performance Comparison:\n",
      "C++ Time: 67412.00 ms\n",
      "Python Time: 48.76 ms\n",
      "Speedup: 0.0x\n",
      "\n",
      "Top 5 Eigenvalues Comparison:\n",
      "C++ Eigenvalues: [1.71938 1.68082 1.64598 1.60192 1.59035]\n",
      "Python Eigenvalues: [1.7193807  1.68082032 1.64598227 1.60192144 1.59034892]\n",
      "\n",
      "Covariance Matrix Difference (Frobenius norm):\n",
      "2.2972332255409115e-05\n"
     ]
    }
   ],
   "source": [
    "import numpy as np\n",
    "import time\n",
    "from sklearn.decomposition import PCA\n",
    "\n",
    "# Load C++ generated data\n",
    "cpp_data = np.loadtxt('cpp_pca_data.txt')\n",
    "cpp_cov = np.loadtxt('cpp_pca_cov.txt')\n",
    "cpp_time = float(open('cpp_pca_time.txt').read())\n",
    "\n",
    "# Time sklearn PCA\n",
    "start = time.time()\n",
    "pca = PCA()\n",
    "pca.fit(cpp_data)  # Using same input data\n",
    "py_time = (time.time() - start) * 1000  # Convert to ms\n",
    "\n",
    "# Compare results\n",
    "print(f\"\\nPerformance Comparison:\")\n",
    "print(f\"C++ Time: {cpp_time:.2f} ms\")\n",
    "print(f\"Python Time: {py_time:.2f} ms\")\n",
    "print(f\"Speedup: {py_time/cpp_time:.1f}x\")\n",
    "\n",
    "# Verify correctness\n",
    "print(\"\\nTop 5 Eigenvalues Comparison:\")\n",
    "print(\"C++ Eigenvalues:\", np.loadtxt('parallel_pca_eigenvalues.txt')[:5])\n",
    "print(\"Python Eigenvalues:\", pca.explained_variance_[:5])\n",
    "\n",
    "# Covariance matrix comparison\n",
    "print(\"\\nCovariance Matrix Difference (Frobenius norm):\")\n",
    "print(np.linalg.norm(cpp_cov - np.cov(cpp_data.T, bias=False)))"
   ]
  }
 ],
 "metadata": {
  "kernelspec": {
   "display_name": "Python 3",
   "language": "python",
   "name": "python3"
  },
  "language_info": {
   "codemirror_mode": {
    "name": "ipython",
    "version": 3
   },
   "file_extension": ".py",
   "mimetype": "text/x-python",
   "name": "python",
   "nbconvert_exporter": "python",
   "pygments_lexer": "ipython3",
   "version": "3.13.0"
  }
 },
 "nbformat": 4,
 "nbformat_minor": 5
}
